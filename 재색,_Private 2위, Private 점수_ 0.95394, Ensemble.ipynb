{
 "cells": [
  {
   "cell_type": "markdown",
   "metadata": {},
   "source": [
    "# 농업 환경 변화에 따른 작물 병해 진단 AI 경진대회\n",
    "(주최 : LG AI Research, 주관: 데이콘)   \n",
    "##### 알림: 빠른 공유를 위해 1차적으로 업로드 하였습니다. 2월 8일까지는 중간중간 수정될 수 있습니다. 데이콘에서 보고 오셨다면, 궁금한 점을 데이콘에서 댓글로 달아주세요.\n",
    "\n",
    "## 개발 환경\n",
    "\"Ubuntu 18.04.5 LTS\"\n",
    "\n",
    "## 라이브러리 버전\n",
    "python==3.8.2   \n",
    "albumentations==1.1.0   \n",
    "catboost==0.26.1   \n",
    "numpy==1.22.0   \n",
    "opencv-python==4.5.3.56   \n",
    "pandas==1.3.5   \n",
    "scikit-learn==1.0.2   \n",
    "tensorboard == 2.7.0   \n",
    "timm==0.4.12   \n",
    "torch==1.8.1   \n",
    "tqdm==4.62.3   \n",
    "\n",
    "## 실행 방법\n",
    "### 데이터 경로\n",
    "- 특정 폴더에 train, test 폴더가 있고 다시 번호가 붙은 폴더, 그 내부에 csv, json, jpg 파일이 있어야 함.\n",
    "- 예시: train/10000/10000.csv 혹은  test/10000/10000.jpg 와 같은 구조\n",
    "- default 경로는 /data\n",
    "- 즉, /data/train/---, /data/test/--- 와 같은 방식을 기대\n",
    "- default 경로를 따르지 않으려면 data_preprocessing.py 실행시 --data-folder 부분에 파일 경로 추가. 단, 위의 첫번째 사항과 같은 규칙을 지켜야 함.\n",
    "\n",
    "### 훈련 데이터 전처리와 모델 학습 \n",
    "- preprocess_for_train.sh 실행 -> 훈련용 전처리 수행\n",
    "- train.sh 실행 -> catboost와 deep neural network 모델 학습\n",
    "\n",
    "### 테스트 데이터 전처리와 모델 로드, 추론\n",
    "- preprocess_for_test.sh 실행 -> 테스트용 전처리 수행\n",
    "- predict.sh 실행 -> 실제 추론 수행\n",
    "\n",
    "## 추가 사항\n",
    "- 구체적인 내용은 각 폴더에 넣었습니다.\n",
    "- experiment 폴더에는 수행했지만 성능 개선이 뚜렷하지 않았던 내용을 기술하였습니다. 코드도 업로드 하였지만 잘 정리되어 있지는 않습니다.\n",
    "- competition 폴더에는 실제 사용한 코드들이 있습니다. 모델에 대한 설명 등을 여기에 기술하였습니다. 참고하시면 되겠습니다.\n",
    "- 위의 bash 파일은 아주 기초적인 수준으로 이루어져 있습니다. 마찬가지로 자세한 정보는 competition 폴더를 참고 바랍니다.\n"
   ]
  }
 ],
 "metadata": {
  "interpreter": {
   "hash": "d4d1e4263499bec80672ea0156c357c1ee493ec2b1c70f0acce89fc37c4a6abe"
  },
  "kernelspec": {
   "display_name": "Python 3.8.8 64-bit ('base': conda)",
   "language": "python",
   "name": "python3"
  },
  "language_info": {
   "codemirror_mode": {
    "name": "ipython",
    "version": 3
   },
   "file_extension": ".py",
   "mimetype": "text/x-python",
   "name": "python",
   "nbconvert_exporter": "python",
   "pygments_lexer": "ipython3",
   "version": "3.8.2"
  },
  "orig_nbformat": 4
 },
 "nbformat": 4,
 "nbformat_minor": 2
}
