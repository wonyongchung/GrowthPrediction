{
 "cells": [
  {
   "cell_type": "markdown",
   "id": "72ab04b1-ceeb-42f9-bd60-b47ab0b27d09",
   "metadata": {},
   "source": [
    "## Import"
   ]
  },
  {
   "cell_type": "code",
   "execution_count": null,
   "id": "5b9f99a6-eeeb-4286-822e-545cdba4d2b0",
   "metadata": {},
   "outputs": [
    {
     "ename": "",
     "evalue": "",
     "output_type": "error",
     "traceback": [
      "\u001b[1;31mFailed to start the Kernel. \n",
      "Failed to start the Kernel 'wonyong (Python 3.8.8)'. \n",
      "View Jupyter <a href='command:jupyter.viewOutput'>log</a> for further details. listen EFAULT: bad address in system call argument 127.0.0.1:9001"
     ]
    }
   ],
   "source": [
    "import numpy as np\n",
    "import random\n",
    "import os\n",
    "import math\n",
    "\n",
    "from glob import glob\n",
    "import pandas as pd\n",
    "import cv2\n",
    "from tqdm.auto import tqdm\n",
    "\n",
    "import torch\n",
    "import torch.nn as nn\n",
    "import torch.nn.functional as F\n",
    "from torch.utils.data import DataLoader, Dataset\n",
    "\n",
    "import torchvision.models as models\n",
    "from torchvision import transforms"
   ]
  },
  {
   "cell_type": "code",
   "execution_count": 63,
   "id": "19588b2c-5a38-48ea-bec9-3fd4b63a085d",
   "metadata": {},
   "outputs": [
    {
     "data": {
      "text/plain": [
       "device(type='cuda')"
      ]
     },
     "execution_count": 63,
     "metadata": {},
     "output_type": "execute_result"
    }
   ],
   "source": [
    "device = torch.device('cuda') if torch.cuda.is_available() else torch.device('cpu')\n",
    "device"
   ]
  },
  {
   "cell_type": "markdown",
   "id": "06c7e45f-2426-4916-971c-e6ef34658bbe",
   "metadata": {},
   "source": [
    "## Hyperparameters Setting"
   ]
  },
  {
   "cell_type": "code",
   "execution_count": 80,
   "id": "f863d58c-930e-401e-bae0-0be718fc7ca3",
   "metadata": {},
   "outputs": [],
   "source": [
    "CFG = {\n",
    "    'IMG_SIZE':128,\n",
    "    'EPOCHS':10,\n",
    "    'LEARNING_RATE':2e-3,\n",
    "    'BATCH_SIZE':32,\n",
    "    'SEED':41\n",
    "}"
   ]
  },
  {
   "cell_type": "markdown",
   "id": "b37fde17-5082-4ed7-a003-c7bcbbf65ffb",
   "metadata": {},
   "source": [
    "## Fix RandomSeed"
   ]
  },
  {
   "cell_type": "code",
   "execution_count": 65,
   "id": "2900cbf8-79f2-496c-a951-b0a74df86aef",
   "metadata": {},
   "outputs": [],
   "source": [
    "def seed_everything(seed):\n",
    "    random.seed(seed)\n",
    "    os.environ['PYTHONHASHSEED'] = str(seed)\n",
    "    np.random.seed(seed)\n",
    "    torch.manual_seed(seed)\n",
    "    torch.cuda.manual_seed(seed)\n",
    "    torch.backends.cudnn.deterministic = True\n",
    "    torch.backends.cudnn.benchmark = True\n",
    "\n",
    "seed_everything(CFG['SEED']) # Seed 고정"
   ]
  },
  {
   "cell_type": "markdown",
   "id": "7aaad7d5-643e-4ccd-ae32-920a9553b630",
   "metadata": {},
   "source": [
    "## Data Pre-processing"
   ]
  },
  {
   "cell_type": "code",
   "execution_count": 66,
   "id": "343093ae-587c-4e26-8774-2cab3de75add",
   "metadata": {},
   "outputs": [],
   "source": [
    "def get_train_data(data_dir):\n",
    "    img_path_list = []\n",
    "    label_list = []\n",
    "    for case_name in os.listdir(data_dir):\n",
    "        current_path = os.path.join(data_dir, case_name)\n",
    "        if os.path.isdir(current_path):\n",
    "            # get image path\n",
    "            img_path_list.extend(glob(os.path.join(current_path, 'image', '*.jpg')))\n",
    "            img_path_list.extend(glob(os.path.join(current_path, 'image', '*.png')))\n",
    "            \n",
    "            # get label\n",
    "            label_df = pd.read_csv(current_path+'/label.csv')\n",
    "            label_list.extend(label_df['leaf_weight'])\n",
    "                \n",
    "    return img_path_list, label_list\n",
    "\n",
    "def get_test_data(data_dir):\n",
    "    # get image path\n",
    "    img_path_list = glob(os.path.join(data_dir, 'image', '*.jpg'))\n",
    "    img_path_list.extend(glob(os.path.join(data_dir, 'image', '*.png')))\n",
    "    img_path_list.sort(key=lambda x:int(x.split('\\\\')[-1].split('.')[0]))\n",
    "    return img_path_list"
   ]
  },
  {
   "cell_type": "code",
   "execution_count": 67,
   "id": "14655d2b-3c47-409d-9c1e-8de4753950bd",
   "metadata": {},
   "outputs": [],
   "source": [
    "all_img_path, all_label = get_train_data('./dataset/train')\n",
    "test_img_path = get_test_data('./dataset/test')"
   ]
  },
  {
   "cell_type": "markdown",
   "id": "68577959-091a-46cc-9c9b-18e2404f5de6",
   "metadata": {},
   "source": [
    "## Train / Validation Split"
   ]
  },
  {
   "cell_type": "code",
   "execution_count": 68,
   "id": "31f5a9d4-7af5-466c-b1ac-1480f285dd9c",
   "metadata": {},
   "outputs": [],
   "source": [
    "# Train : Validation = 0.8 : 0.2 Split\n",
    "train_len = int(len(all_img_path)*0.8)\n",
    "\n",
    "train_img_path = all_img_path[:train_len]\n",
    "train_label = all_label[:train_len]\n",
    "\n",
    "vali_img_path = all_img_path[train_len:]\n",
    "vali_label = all_label[train_len:]"
   ]
  },
  {
   "cell_type": "markdown",
   "id": "5af7e345-7445-4717-909c-2a2e0a4e8993",
   "metadata": {},
   "source": [
    "## CustomDataset"
   ]
  },
  {
   "cell_type": "code",
   "execution_count": 69,
   "id": "10b24583-9c39-47df-84b3-f606ffdf5852",
   "metadata": {},
   "outputs": [],
   "source": [
    "class CustomDataset(Dataset):\n",
    "    def __init__(self, img_path_list, label_list, train_mode=True, transforms=None):\n",
    "        self.transforms = transforms\n",
    "        self.train_mode = train_mode\n",
    "        self.img_path_list = img_path_list\n",
    "        self.label_list = label_list\n",
    "\n",
    "    def __getitem__(self, index):\n",
    "        img_path = self.img_path_list[index]\n",
    "        # Get image data\n",
    "        image = cv2.imread(img_path)\n",
    "        if self.transforms is not None:\n",
    "            image = self.transforms(image)\n",
    "\n",
    "        if self.train_mode:\n",
    "            label = self.label_list[index]\n",
    "            return image, label\n",
    "        else:\n",
    "            return image\n",
    "    \n",
    "    def __len__(self):\n",
    "        return len(self.img_path_list)"
   ]
  },
  {
   "cell_type": "code",
   "execution_count": 70,
   "id": "352f1a75-a858-4a10-bccf-c56afce6a2a3",
   "metadata": {},
   "outputs": [],
   "source": [
    "train_transform = transforms.Compose([\n",
    "                    transforms.ToTensor(),\n",
    "                    transforms.Resize((CFG['IMG_SIZE'], CFG['IMG_SIZE'])),\n",
    "                    transforms.Normalize(mean=(0.5, 0.5, 0.5), std=(0.5, 0.5, 0.5))\n",
    "                    ])\n",
    "\n",
    "test_transform = transforms.Compose([\n",
    "                    transforms.ToTensor(),\n",
    "                    transforms.Resize((CFG['IMG_SIZE'], CFG['IMG_SIZE'])),\n",
    "                    transforms.Normalize(mean=(0.5, 0.5, 0.5), std=(0.5, 0.5, 0.5))\n",
    "                    ])"
   ]
  },
  {
   "cell_type": "code",
   "execution_count": 71,
   "id": "8bb99df4",
   "metadata": {},
   "outputs": [
    {
     "data": {
      "text/plain": [
       "'./dataset/train\\\\CASE01\\\\image\\\\CASE01_01.png'"
      ]
     },
     "execution_count": 71,
     "metadata": {},
     "output_type": "execute_result"
    }
   ],
   "source": [
    "all_img_path[0]"
   ]
  },
  {
   "cell_type": "code",
   "execution_count": 72,
   "id": "9ee5fbd7",
   "metadata": {},
   "outputs": [
    {
     "data": {
      "text/plain": [
       "torch.Size([128, 128, 3])"
      ]
     },
     "execution_count": 72,
     "metadata": {},
     "output_type": "execute_result"
    }
   ],
   "source": [
    "train_transform(cv2.imread(all_img_path[0])).transpose(0,1).transpose(1,2).shape"
   ]
  },
  {
   "cell_type": "code",
   "execution_count": 73,
   "id": "dbe96148",
   "metadata": {},
   "outputs": [
    {
     "name": "stderr",
     "output_type": "stream",
     "text": [
      "Clipping input data to the valid range for imshow with RGB data ([0..1] for floats or [0..255] for integers).\n"
     ]
    },
    {
     "data": {
      "text/plain": [
       "<matplotlib.image.AxesImage at 0x17c8bcdac70>"
      ]
     },
     "execution_count": 73,
     "metadata": {},
     "output_type": "execute_result"
    },
    {
     "data": {
      "image/png": "[encoded data removed]",
      "text/plain": [
       "<Figure size 432x288 with 1 Axes>"
      ]
     },
     "metadata": {
      "needs_background": "light"
     },
     "output_type": "display_data"
    }
   ],
   "source": [
    "# from PIL import Image\n",
    "# PIL_image = Image.fromarray(ndarray_image)\n",
    "import matplotlib.pyplot as plt\n",
    "%matplotlib inline\n",
    "plt.imshow(train_transform(cv2.imread(all_img_path[0])).transpose(0,1).transpose(1,2))"
   ]
  },
  {
   "cell_type": "code",
   "execution_count": 74,
   "id": "17aa1756-4b35-4a48-aa5d-f5b6e8524f55",
   "metadata": {},
   "outputs": [],
   "source": [
    "# Get Dataloader\n",
    "train_dataset = CustomDataset(train_img_path, train_label, train_mode=True, transforms=train_transform)\n",
    "train_loader = DataLoader(train_dataset, batch_size = CFG['BATCH_SIZE'], shuffle=True, num_workers=0)\n",
    "\n",
    "vali_dataset = CustomDataset(vali_img_path, vali_label, train_mode=True, transforms=test_transform)\n",
    "vali_loader = DataLoader(vali_dataset, batch_size = CFG['BATCH_SIZE'], shuffle=False, num_workers=0)"
   ]
  },
  {
   "cell_type": "markdown",
   "id": "6e04e913-7a5c-4e20-a9ad-2ad1089f16dd",
   "metadata": {},
   "source": [
    "## Define Model Architecture"
   ]
  },
  {
   "cell_type": "code",
   "execution_count": 75,
   "id": "7188a84b-6f8a-4f43-8235-6208835b1d90",
   "metadata": {},
   "outputs": [],
   "source": [
    "class CNNRegressor(torch.nn.Module):\n",
    "    def __init__(self):\n",
    "        super(CNNRegressor, self).__init__()\n",
    "        self.layer1 = torch.nn.Sequential(\n",
    "            nn.Conv2d(3, 8, kernel_size=3, stride=1, padding=1),\n",
    "            nn.ReLU(),\n",
    "            nn.MaxPool2d(kernel_size=2, stride=2))\n",
    "        \n",
    "        self.layer2 = torch.nn.Sequential(\n",
    "            nn.Conv2d(8, 16, kernel_size=3, stride=1, padding=1),\n",
    "            nn.ReLU(),\n",
    "            nn.MaxPool2d(kernel_size=2, stride=2))\n",
    "        \n",
    "        self.layer3 = torch.nn.Sequential(\n",
    "            nn.Conv2d(16, 32, kernel_size=3, stride=1, padding=1),\n",
    "            nn.ReLU(),\n",
    "            nn.MaxPool2d(kernel_size=2, stride=2))\n",
    "        \n",
    "        self.layer4 = torch.nn.Sequential(\n",
    "            nn.Conv2d(32, 64, kernel_size=4, stride=1, padding=1),\n",
    "            nn.ReLU(),\n",
    "            nn.MaxPool2d(kernel_size=2, stride=2))\n",
    "        \n",
    "        self.regressor = nn.Linear(3136,1)\n",
    "\n",
    "\n",
    "    def forward(self, x):\n",
    "        # Simple CNN Model (Batch, 3, 128, 128 -> Batch, 64, 7, 7)\n",
    "        # (Batch, 3, 128, 128)\n",
    "        x = self.layer1(x)\n",
    "        # (Batch, 8, 64, 64)\n",
    "        x = self.layer2(x)\n",
    "        # (Batch, 16, 32, 32)\n",
    "        x = self.layer3(x)\n",
    "        # (Batch, 32, 16, 16)\n",
    "        x = self.layer4(x)\n",
    "        # (Batch, 64, 7, 7) -> Flatten (Batch, 64*7*7(=3136))\n",
    "        x = torch.flatten(x, start_dim=1)\n",
    "        # Regressor (Batch, 3136) -> (Batch, 1)\n",
    "        out = self.regressor(x)\n",
    "        return out"
   ]
  },
  {
   "cell_type": "markdown",
   "id": "629903e0-7438-4494-bef0-1db1db28f4b2",
   "metadata": {},
   "source": [
    "## Train"
   ]
  },
  {
   "cell_type": "code",
   "execution_count": 76,
   "id": "e462f95f-cf3c-4b78-84b7-ef50e4690c1b",
   "metadata": {},
   "outputs": [],
   "source": [
    "def train(model, optimizer, train_loader, vali_loader, scheduler, device):\n",
    "    model.to(device)\n",
    "\n",
    "    # Loss Function\n",
    "    criterion = nn.L1Loss().to(device)\n",
    "    best_mae = 9999\n",
    "    \n",
    "    for epoch in range(1,CFG[\"EPOCHS\"]+1):\n",
    "        model.train()\n",
    "        train_loss = []\n",
    "        for img, label in tqdm(iter(train_loader)):\n",
    "            img, label = img.float().to(device), label.float().to(device)\n",
    "            \n",
    "            optimizer.zero_grad()\n",
    "\n",
    "            # Data -> Model -> Output\n",
    "            logit = model(img)\n",
    "            # Calc loss\n",
    "            loss = criterion(logit.squeeze(1), label)\n",
    "\n",
    "            # backpropagation\n",
    "            loss.backward()\n",
    "            optimizer.step()\n",
    "\n",
    "            train_loss.append(loss.item())\n",
    "            \n",
    "        if scheduler is not None:\n",
    "            scheduler.step()\n",
    "            \n",
    "        # Evaluation Validation set\n",
    "        vali_mae = validation(model, vali_loader, criterion, device)\n",
    "        \n",
    "        print(f'Epoch [{epoch}] Train MAE : [{np.mean(train_loss):.5f}] Validation MAE : [{vali_mae:.5f}]\\n')\n",
    "        \n",
    "        # Model Saved\n",
    "        if best_mae > vali_mae:\n",
    "            best_mae = vali_mae\n",
    "            torch.save(model.state_dict(), './saved/best_model.pth')\n",
    "            print('Model Saved.')"
   ]
  },
  {
   "cell_type": "code",
   "execution_count": 77,
   "id": "38eb2190-6eac-4398-85ac-4f94f8fb8b97",
   "metadata": {},
   "outputs": [],
   "source": [
    "def validation(model, vali_loader, criterion, device):\n",
    "    model.eval() # Evaluation\n",
    "    vali_loss = []\n",
    "    with torch.no_grad():\n",
    "        for img, label in tqdm(iter(vali_loader)):\n",
    "            img, label = img.float().to(device), label.float().to(device)\n",
    "\n",
    "            logit = model(img)\n",
    "            loss = criterion(logit.squeeze(1), label)\n",
    "            \n",
    "            vali_loss.append(loss.item())\n",
    "\n",
    "    vali_mae_loss = np.mean(vali_loss)\n",
    "    return vali_mae_loss"
   ]
  },
  {
   "cell_type": "markdown",
   "id": "c87bb28e-f574-43a0-a242-1ba3d34d0656",
   "metadata": {},
   "source": [
    "## Run!!"
   ]
  },
  {
   "cell_type": "code",
   "execution_count": 82,
   "id": "379342b0-211f-4de4-8ec3-8c16d76e37ef",
   "metadata": {
    "tags": []
   },
   "outputs": [
    {
     "name": "stderr",
     "output_type": "stream",
     "text": [
      "100%|██████████| 160/160 [03:57<00:00,  1.49s/it]\n",
      "100%|██████████| 40/40 [01:01<00:00,  1.54s/it]\n"
     ]
    },
    {
     "name": "stdout",
     "output_type": "stream",
     "text": [
      "Epoch [1] Train MAE : [64.48207] Validation MAE : [44.01727]\n",
      "\n",
      "Model Saved.\n"
     ]
    },
    {
     "name": "stderr",
     "output_type": "stream",
     "text": [
      "100%|██████████| 160/160 [04:02<00:00,  1.51s/it]\n",
      "100%|██████████| 40/40 [01:01<00:00,  1.53s/it]\n"
     ]
    },
    {
     "name": "stdout",
     "output_type": "stream",
     "text": [
      "Epoch [2] Train MAE : [47.43020] Validation MAE : [1305.50899]\n",
      "\n"
     ]
    },
    {
     "name": "stderr",
     "output_type": "stream",
     "text": [
      "100%|██████████| 160/160 [04:05<00:00,  1.53s/it]\n",
      "100%|██████████| 40/40 [01:01<00:00,  1.54s/it]\n"
     ]
    },
    {
     "name": "stdout",
     "output_type": "stream",
     "text": [
      "Epoch [3] Train MAE : [86.31452] Validation MAE : [81.43506]\n",
      "\n"
     ]
    },
    {
     "name": "stderr",
     "output_type": "stream",
     "text": [
      "100%|██████████| 160/160 [04:01<00:00,  1.51s/it]\n",
      "100%|██████████| 40/40 [00:58<00:00,  1.46s/it]\n"
     ]
    },
    {
     "name": "stdout",
     "output_type": "stream",
     "text": [
      "Epoch [4] Train MAE : [55.96909] Validation MAE : [43.97063]\n",
      "\n",
      "Model Saved.\n"
     ]
    },
    {
     "name": "stderr",
     "output_type": "stream",
     "text": [
      "100%|██████████| 160/160 [04:00<00:00,  1.50s/it]\n",
      "100%|██████████| 40/40 [01:01<00:00,  1.53s/it]\n"
     ]
    },
    {
     "name": "stdout",
     "output_type": "stream",
     "text": [
      "Epoch [5] Train MAE : [30.76779] Validation MAE : [28.22738]\n",
      "\n",
      "Model Saved.\n"
     ]
    },
    {
     "name": "stderr",
     "output_type": "stream",
     "text": [
      "100%|██████████| 160/160 [04:06<00:00,  1.54s/it]\n",
      "100%|██████████| 40/40 [01:01<00:00,  1.53s/it]\n"
     ]
    },
    {
     "name": "stdout",
     "output_type": "stream",
     "text": [
      "Epoch [6] Train MAE : [25.96817] Validation MAE : [53.83762]\n",
      "\n"
     ]
    },
    {
     "name": "stderr",
     "output_type": "stream",
     "text": [
      "100%|██████████| 160/160 [04:09<00:00,  1.56s/it]\n",
      "100%|██████████| 40/40 [01:02<00:00,  1.57s/it]\n"
     ]
    },
    {
     "name": "stdout",
     "output_type": "stream",
     "text": [
      "Epoch [7] Train MAE : [23.45901] Validation MAE : [19.70783]\n",
      "\n",
      "Model Saved.\n"
     ]
    },
    {
     "name": "stderr",
     "output_type": "stream",
     "text": [
      "100%|██████████| 160/160 [04:17<00:00,  1.61s/it]\n",
      "100%|██████████| 40/40 [00:59<00:00,  1.49s/it]\n"
     ]
    },
    {
     "name": "stdout",
     "output_type": "stream",
     "text": [
      "Epoch [8] Train MAE : [19.90909] Validation MAE : [127.39199]\n",
      "\n"
     ]
    },
    {
     "name": "stderr",
     "output_type": "stream",
     "text": [
      "100%|██████████| 160/160 [04:22<00:00,  1.64s/it]\n",
      "100%|██████████| 40/40 [01:06<00:00,  1.67s/it]\n"
     ]
    },
    {
     "name": "stdout",
     "output_type": "stream",
     "text": [
      "Epoch [9] Train MAE : [18.49891] Validation MAE : [32.24288]\n",
      "\n"
     ]
    },
    {
     "name": "stderr",
     "output_type": "stream",
     "text": [
      "100%|██████████| 160/160 [04:03<00:00,  1.52s/it]\n",
      "100%|██████████| 40/40 [00:59<00:00,  1.48s/it]"
     ]
    },
    {
     "name": "stdout",
     "output_type": "stream",
     "text": [
      "Epoch [10] Train MAE : [14.85386] Validation MAE : [48.13690]\n",
      "\n"
     ]
    },
    {
     "name": "stderr",
     "output_type": "stream",
     "text": [
      "\n"
     ]
    }
   ],
   "source": [
    "model = CNNRegressor().to(device)\n",
    "\n",
    "optimizer = torch.optim.SGD(params = model.parameters(), lr = CFG[\"LEARNING_RATE\"])\n",
    "scheduler = None\n",
    "\n",
    "train(model, optimizer, train_loader, vali_loader, scheduler, device)"
   ]
  },
  {
   "cell_type": "markdown",
   "id": "660aa9ae-6aaf-47fc-8ed4-eca154466544",
   "metadata": {},
   "source": [
    "## Inference"
   ]
  },
  {
   "cell_type": "code",
   "execution_count": 83,
   "id": "0e55d732-3cd1-4034-a568-8cce6f29f993",
   "metadata": {},
   "outputs": [],
   "source": [
    "def predict(model, test_loader, device):\n",
    "    model.eval()\n",
    "    model_pred = []\n",
    "    with torch.no_grad():\n",
    "        for img in tqdm(iter(test_loader)):\n",
    "            img = img.float().to(device)\n",
    "\n",
    "            pred_logit = model(img)\n",
    "            pred_logit = pred_logit.squeeze(1).detach().cpu()\n",
    "\n",
    "            model_pred.extend(pred_logit.tolist())\n",
    "    return model_pred"
   ]
  },
  {
   "cell_type": "code",
   "execution_count": 84,
   "id": "b1ee67e0-daba-4471-8f97-c5506dbfc990",
   "metadata": {},
   "outputs": [
    {
     "name": "stderr",
     "output_type": "stream",
     "text": [
      "100%|██████████| 15/15 [05:02<00:00, 20.19s/it]\n"
     ]
    }
   ],
   "source": [
    "test_dataset = CustomDataset(test_img_path, None, train_mode=False, transforms=test_transform)\n",
    "test_loader = DataLoader(test_dataset, batch_size = CFG['BATCH_SIZE'], shuffle=False, num_workers=0)\n",
    "\n",
    "# Validation Score가 가장 뛰어난 모델을 불러옵니다.\n",
    "checkpoint = torch.load('./saved/best_model.pth')\n",
    "model = CNNRegressor().to(device)\n",
    "model.load_state_dict(checkpoint)\n",
    "\n",
    "# Inference\n",
    "preds = predict(model, test_loader, device)"
   ]
  },
  {
   "cell_type": "markdown",
   "id": "eb00479c-a650-4b38-bd21-d4c1018ba57e",
   "metadata": {},
   "source": [
    "## Submission"
   ]
  },
  {
   "cell_type": "code",
   "execution_count": 86,
   "id": "5efdd157",
   "metadata": {},
   "outputs": [
    {
     "data": {
      "text/plain": [
       "[58.58141326904297,\n",
       " 143.59283447265625,\n",
       " -1.6936466693878174,\n",
       " 55.583518981933594,\n",
       " 65.65078735351562,\n",
       " 61.60427474975586,\n",
       " -4.425544738769531,\n",
       " 61.53095245361328,\n",
       " -1.798891544342041,\n",
       " 67.88890838623047,\n",
       " -4.905154705047607,\n",
       " 36.50437927246094,\n",
       " 0.9731063842773438,\n",
       " 36.09989547729492,\n",
       " -1.0720853805541992,\n",
       " 61.85447311401367,\n",
       " 61.105892181396484,\n",
       " 40.899227142333984,\n",
       " 64.83512878417969,\n",
       " 138.255859375,\n",
       " 46.81692123413086,\n",
       " -1.8089978694915771,\n",
       " -3.7091383934020996,\n",
       " -47.19990539550781,\n",
       " 60.41492462158203,\n",
       " 40.799072265625,\n",
       " 94.99515533447266,\n",
       " 51.88534927368164,\n",
       " 61.219261169433594,\n",
       " 67.640625,\n",
       " 54.04057312011719,\n",
       " 8.783977508544922,\n",
       " -3.8464059829711914,\n",
       " -1.1856470108032227,\n",
       " 5.617023468017578,\n",
       " 115.60542297363281,\n",
       " -3.015195369720459,\n",
       " 67.87104034423828,\n",
       " -0.763853132724762,\n",
       " 44.2213134765625,\n",
       " 62.03602981567383,\n",
       " 58.70888900756836,\n",
       " -2.0447425842285156,\n",
       " 29.92577362060547,\n",
       " 62.877384185791016,\n",
       " 27.742185592651367,\n",
       " 62.270790100097656,\n",
       " 43.147220611572266,\n",
       " -17.81831932067871,\n",
       " 47.804649353027344,\n",
       " 110.15435028076172,\n",
       " 60.51821517944336,\n",
       " 51.224857330322266,\n",
       " 19.94317626953125,\n",
       " 69.5122299194336,\n",
       " 19.699203491210938,\n",
       " 69.184326171875,\n",
       " 29.04705810546875,\n",
       " 28.79486656188965,\n",
       " 62.01044464111328,\n",
       " -4.009590148925781,\n",
       " 27.834320068359375,\n",
       " 59.2897834777832,\n",
       " 68.55310821533203,\n",
       " 54.53157424926758,\n",
       " 44.922515869140625,\n",
       " 61.43915939331055,\n",
       " 66.47228240966797,\n",
       " 91.8316879272461,\n",
       " 7.446897983551025,\n",
       " 134.6765899658203,\n",
       " 67.73963165283203,\n",
       " 67.03872680664062,\n",
       " -1.4702880382537842,\n",
       " 6.090378284454346,\n",
       " 7.839500904083252,\n",
       " -4.269464015960693,\n",
       " 61.083011627197266,\n",
       " 61.47585678100586,\n",
       " 59.64610290527344,\n",
       " 61.06594467163086,\n",
       " 64.08570861816406,\n",
       " 3.8164894580841064,\n",
       " 5.371656894683838,\n",
       " -3.9811296463012695,\n",
       " -0.40924352407455444,\n",
       " 53.92531967163086,\n",
       " 59.689369201660156,\n",
       " 48.745643615722656,\n",
       " 50.176151275634766,\n",
       " 67.1911849975586,\n",
       " 65.9658432006836,\n",
       " -0.023630857467651367,\n",
       " 6.110786437988281,\n",
       " 28.982805252075195,\n",
       " 43.85589599609375,\n",
       " -39.24204635620117,\n",
       " 65.2724380493164,\n",
       " 68.07122802734375,\n",
       " -1.5782020092010498,\n",
       " 143.652099609375,\n",
       " -1.720604419708252,\n",
       " 55.387107849121094,\n",
       " 63.479366302490234,\n",
       " -4.801494598388672,\n",
       " -1.5044970512390137,\n",
       " 62.64665222167969,\n",
       " 38.46147537231445,\n",
       " -4.205674648284912,\n",
       " -4.239607810974121,\n",
       " -47.64023208618164,\n",
       " -4.364953517913818,\n",
       " -2.2801260948181152,\n",
       " 50.91270446777344,\n",
       " 55.79214096069336,\n",
       " 49.9925422668457,\n",
       " 111.51837158203125,\n",
       " -2.027618408203125,\n",
       " 45.36326599121094,\n",
       " -1.7773175239562988,\n",
       " 35.07881546020508,\n",
       " 0.4513939619064331,\n",
       " 38.47877502441406,\n",
       " 47.30643081665039,\n",
       " 31.068950653076172,\n",
       " 53.714012145996094,\n",
       " 43.62004089355469,\n",
       " 50.511722564697266,\n",
       " -68.83863067626953,\n",
       " 31.290742874145508,\n",
       " 13.772122383117676,\n",
       " 203.43235778808594,\n",
       " 15.95826530456543,\n",
       " 152.04791259765625,\n",
       " 51.541072845458984,\n",
       " -36.37651824951172,\n",
       " -2.5301921367645264,\n",
       " 147.13455200195312,\n",
       " 52.52592468261719,\n",
       " 22.27593231201172,\n",
       " 54.6127815246582,\n",
       " 62.10808181762695,\n",
       " 65.67713165283203,\n",
       " -4.819490909576416,\n",
       " 20.54950714111328,\n",
       " 66.84098052978516,\n",
       " 12.20046615600586,\n",
       " 61.97380065917969,\n",
       " 55.408912658691406,\n",
       " 1.4730212688446045,\n",
       " -50.74923324584961,\n",
       " 15.213494300842285,\n",
       " 0.5792314410209656,\n",
       " 69.95423889160156,\n",
       " 32.31327438354492,\n",
       " 9.789173126220703,\n",
       " -1.5623486042022705,\n",
       " 28.267120361328125,\n",
       " 61.9595832824707,\n",
       " 28.13377571105957,\n",
       " 51.66514587402344,\n",
       " -2.2665529251098633,\n",
       " -4.590452671051025,\n",
       " -51.79350662231445,\n",
       " -70.76956176757812,\n",
       " 5.403349876403809,\n",
       " -2.8113131523132324,\n",
       " -6.03912353515625,\n",
       " 6.028248310089111,\n",
       " 34.097930908203125,\n",
       " 28.58310317993164,\n",
       " 52.46340560913086,\n",
       " -2.4435226917266846,\n",
       " 4.829291820526123,\n",
       " -51.581302642822266,\n",
       " -2.048781156539917,\n",
       " 66.62784576416016,\n",
       " 65.9681396484375,\n",
       " 2.745208263397217,\n",
       " -0.17956912517547607,\n",
       " 131.56924438476562,\n",
       " -1.4546308517456055,\n",
       " -46.31058883666992,\n",
       " 65.50553131103516,\n",
       " -2.1993017196655273,\n",
       " 134.53317260742188,\n",
       " 3.8656558990478516,\n",
       " 172.12059020996094,\n",
       " 27.649009704589844,\n",
       " 51.002925872802734,\n",
       " 7.037423610687256,\n",
       " 68.43490600585938,\n",
       " 61.3318977355957,\n",
       " 7.574576377868652,\n",
       " 60.59137725830078,\n",
       " -3.554746150970459,\n",
       " 0.028751850128173828,\n",
       " 54.94261169433594,\n",
       " 88.4049301147461,\n",
       " 52.52241134643555,\n",
       " 42.14535903930664,\n",
       " 117.68877410888672,\n",
       " -4.156611919403076,\n",
       " 66.60859680175781,\n",
       " 10.631309509277344,\n",
       " 18.948162078857422,\n",
       " 66.10722351074219,\n",
       " -3.494609832763672,\n",
       " -3.189394235610962,\n",
       " 55.16706466674805,\n",
       " 32.04018020629883,\n",
       " -2.417059898376465,\n",
       " -1.9660117626190186,\n",
       " 0.2733166217803955,\n",
       " 45.0767936706543,\n",
       " 52.29071044921875,\n",
       " 47.841983795166016,\n",
       " -1.437340259552002,\n",
       " 61.5150032043457,\n",
       " 69.81526947021484,\n",
       " -0.15040427446365356,\n",
       " 69.90426635742188,\n",
       " 50.284053802490234,\n",
       " 55.49961471557617,\n",
       " -2.3754465579986572,\n",
       " 68.17967987060547,\n",
       " 28.308778762817383,\n",
       " 56.214263916015625,\n",
       " -8.728078842163086,\n",
       " 0.34187984466552734,\n",
       " 66.39408111572266,\n",
       " 3.42948055267334,\n",
       " 19.092247009277344,\n",
       " 139.7350616455078,\n",
       " 57.27312088012695,\n",
       " 57.15871810913086,\n",
       " -1.0720455646514893,\n",
       " -2.0293023586273193,\n",
       " -49.26222229003906,\n",
       " -51.541812896728516,\n",
       " 113.12398529052734,\n",
       " -51.330352783203125,\n",
       " 28.485105514526367,\n",
       " -1.7948462963104248,\n",
       " 60.67879104614258,\n",
       " -1.5820508003234863,\n",
       " -26.538454055786133,\n",
       " 70.71976470947266,\n",
       " 4.874508380889893,\n",
       " 52.385162353515625,\n",
       " -0.788092315196991,\n",
       " 58.09682846069336,\n",
       " -1.3837451934814453,\n",
       " 41.94325256347656,\n",
       " 14.308233261108398,\n",
       " 57.29314041137695,\n",
       " 57.003562927246094,\n",
       " 15.251664161682129,\n",
       " 51.290382385253906,\n",
       " -2.2713539600372314,\n",
       " 50.85734939575195,\n",
       " 70.26451110839844,\n",
       " 70.6336898803711,\n",
       " 15.771007537841797,\n",
       " 45.14048385620117,\n",
       " 7.895674705505371,\n",
       " 46.86891174316406,\n",
       " -2.3369832038879395,\n",
       " -4.573761940002441,\n",
       " 66.5378189086914,\n",
       " 72.58772277832031,\n",
       " 61.17386245727539,\n",
       " 53.6313591003418,\n",
       " 66.95616912841797,\n",
       " 8.663695335388184,\n",
       " 120.9613265991211,\n",
       " 0.6104813814163208,\n",
       " -3.690335750579834,\n",
       " -4.481168270111084,\n",
       " 148.82589721679688,\n",
       " 31.245302200317383,\n",
       " 1.5286331176757812,\n",
       " 1.3077776432037354,\n",
       " -3.630040168762207,\n",
       " 101.70787811279297,\n",
       " 41.85756301879883,\n",
       " 91.22029876708984,\n",
       " 96.53379821777344,\n",
       " 0.7702096700668335,\n",
       " -0.43554162979125977,\n",
       " 48.14544677734375,\n",
       " 29.70968246459961,\n",
       " -1.8250815868377686,\n",
       " 1.20523202419281,\n",
       " 2.3361470699310303,\n",
       " 63.088260650634766,\n",
       " -2.9237847328186035,\n",
       " -0.4575464129447937,\n",
       " -1.3165318965911865,\n",
       " 56.35036087036133,\n",
       " 29.08390235900879,\n",
       " -4.604556560516357,\n",
       " 54.6358642578125,\n",
       " -51.96647262573242,\n",
       " 61.93757629394531,\n",
       " -0.42410314083099365,\n",
       " 36.26974868774414,\n",
       " 0.8147767186164856,\n",
       " -47.117431640625,\n",
       " 46.48670196533203,\n",
       " 182.10134887695312,\n",
       " 38.51668930053711,\n",
       " 84.88279724121094,\n",
       " 57.298194885253906,\n",
       " -3.860163688659668,\n",
       " 17.045745849609375,\n",
       " -3.9109253883361816,\n",
       " 68.02034759521484,\n",
       " 66.49698638916016,\n",
       " 63.66527557373047,\n",
       " 25.879838943481445,\n",
       " 51.09535598754883,\n",
       " -4.3138813972473145,\n",
       " -4.2287702560424805,\n",
       " 61.45772933959961,\n",
       " 25.1818790435791,\n",
       " 79.52198791503906,\n",
       " 54.290157318115234,\n",
       " 29.29842758178711,\n",
       " 39.30069351196289,\n",
       " -4.40383768081665,\n",
       " -3.712909698486328,\n",
       " 57.80611801147461,\n",
       " 129.89114379882812,\n",
       " 2.5687527656555176,\n",
       " 29.28923225402832,\n",
       " -0.3159331679344177,\n",
       " 4.807486534118652,\n",
       " 61.95070266723633,\n",
       " 56.44053649902344,\n",
       " 28.946392059326172,\n",
       " -1.1880607604980469,\n",
       " 70.7135238647461,\n",
       " 64.58414459228516,\n",
       " 51.17466354370117,\n",
       " 159.67857360839844,\n",
       " -0.2847248315811157,\n",
       " -4.5097808837890625,\n",
       " 155.41392517089844,\n",
       " -49.455360412597656,\n",
       " -1.8563957214355469,\n",
       " 69.46342468261719,\n",
       " 9.99455738067627,\n",
       " 10.077202796936035,\n",
       " -0.25741976499557495,\n",
       " 25.719266891479492,\n",
       " 22.340351104736328,\n",
       " 28.816768646240234,\n",
       " -1.6843900680541992,\n",
       " 50.32334518432617,\n",
       " 67.15841674804688,\n",
       " 134.55642700195312,\n",
       " 39.66909408569336,\n",
       " 0.9454187154769897,\n",
       " 20.475341796875,\n",
       " 143.5435028076172,\n",
       " 139.18780517578125,\n",
       " 1.3021066188812256,\n",
       " 42.5916633605957,\n",
       " 51.25305938720703,\n",
       " 62.2841796875,\n",
       " -1.9209110736846924,\n",
       " 50.9387092590332,\n",
       " 150.19781494140625,\n",
       " 67.52667999267578,\n",
       " 122.28998565673828,\n",
       " 60.999114990234375,\n",
       " -2.248652219772339,\n",
       " -3.5226798057556152,\n",
       " 30.82407569885254,\n",
       " -1.5923209190368652,\n",
       " 36.42670822143555,\n",
       " 0.9779884219169617,\n",
       " -1.9357290267944336,\n",
       " 176.94606018066406,\n",
       " 48.89666748046875,\n",
       " -52.37093734741211,\n",
       " -4.554616928100586,\n",
       " 63.37775421142578,\n",
       " -3.9290952682495117,\n",
       " 13.993517875671387,\n",
       " 52.49454116821289,\n",
       " 4.965203285217285,\n",
       " 106.13084411621094,\n",
       " -10.449199676513672,\n",
       " 47.35109329223633,\n",
       " 29.778186798095703,\n",
       " 64.63206481933594,\n",
       " -1.0443930625915527,\n",
       " 28.068279266357422,\n",
       " 7.695047378540039,\n",
       " 65.5531234741211,\n",
       " 7.4300360679626465,\n",
       " 36.7658576965332,\n",
       " 54.76448440551758,\n",
       " 38.04121398925781,\n",
       " 28.304771423339844,\n",
       " 61.16910934448242,\n",
       " -0.3773653507232666,\n",
       " 12.897107124328613,\n",
       " 61.84000015258789,\n",
       " 8.893712997436523,\n",
       " 157.83018493652344,\n",
       " -3.9379196166992188,\n",
       " 1.7978479862213135,\n",
       " 176.41310119628906,\n",
       " 19.631683349609375,\n",
       " -4.027895927429199,\n",
       " 43.93035125732422,\n",
       " 46.49271774291992,\n",
       " 117.72928619384766,\n",
       " 2.746196746826172,\n",
       " -0.16694939136505127,\n",
       " 47.19027328491211,\n",
       " 49.98494338989258,\n",
       " 43.41118240356445,\n",
       " 12.85369873046875,\n",
       " 67.61634826660156,\n",
       " -0.9336047768592834,\n",
       " -2.7961018085479736,\n",
       " 51.50662612915039,\n",
       " -3.580695629119873,\n",
       " 66.43568420410156,\n",
       " 78.67970275878906,\n",
       " 17.488441467285156,\n",
       " 49.22099304199219,\n",
       " -4.609665870666504,\n",
       " 53.83598709106445,\n",
       " 67.74423217773438,\n",
       " 29.763525009155273,\n",
       " 57.99153518676758,\n",
       " 0.8029285669326782,\n",
       " 66.93276977539062,\n",
       " 29.05748748779297,\n",
       " 48.92789840698242,\n",
       " -1.5565464496612549,\n",
       " 1.6029350757598877,\n",
       " -1.315563440322876,\n",
       " -1.8527908325195312,\n",
       " 37.86325454711914,\n",
       " 1.1575877666473389,\n",
       " -4.332523345947266,\n",
       " 221.10919189453125,\n",
       " -2.226341485977173,\n",
       " 52.88517761230469,\n",
       " 30.552488327026367,\n",
       " 64.30259704589844,\n",
       " 29.038639068603516,\n",
       " 53.11509323120117,\n",
       " 125.89036560058594]"
      ]
     },
     "execution_count": 86,
     "metadata": {},
     "output_type": "execute_result"
    }
   ],
   "source": [
    "preds"
   ]
  },
  {
   "cell_type": "code",
   "execution_count": 87,
   "id": "d169965e-8066-464e-b755-9a2db0d018b6",
   "metadata": {},
   "outputs": [],
   "source": [
    "submission = pd.read_csv('./sample_submission.csv')\n",
    "submission['leaf_weight'] = preds\n",
    "submission.to_csv('./submit.csv', index=False)"
   ]
  },
  {
   "cell_type": "code",
   "execution_count": null,
   "id": "b74dabdc",
   "metadata": {},
   "outputs": [
    {
     "ename": "",
     "evalue": "",
     "output_type": "error",
     "traceback": [
      "\u001b[1;31mFailed to start the Kernel. \n",
      "Failed to start the Kernel 'wonyong (Python 3.8.8)'. \n",
      "View Jupyter <a href='command:jupyter.viewOutput'>log</a> for further details. listen EFAULT: bad address in system call argument :::9000"
     ]
    }
   ],
   "source": [
    "a=1"
   ]
  },
  {
   "cell_type": "code",
   "execution_count": null,
   "id": "9eb932b7",
   "metadata": {},
   "outputs": [],
   "source": []
  }
 ],
 "metadata": {
  "kernelspec": {
   "display_name": "Python 3 (ipykernel)",
   "language": "python",
   "name": "python3"
  },
  "language_info": {
   "codemirror_mode": {
    "name": "ipython",
    "version": 3
   },
   "file_extension": ".py",
   "mimetype": "text/x-python",
   "name": "python",
   "nbconvert_exporter": "python",
   "pygments_lexer": "ipython3",
   "version": "3.8.8"
  }
 },
 "nbformat": 4,
 "nbformat_minor": 5
}
