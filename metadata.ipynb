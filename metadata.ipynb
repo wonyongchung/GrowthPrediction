{
 "cells": [
  {
   "cell_type": "code",
   "execution_count": 1,
   "metadata": {},
   "outputs": [],
   "source": [
    "import glob\n",
    "import pandas as pd\n",
    "import numpy as np\n",
    "from sklearn.preprocessing import MinMaxScaler\n",
    "import os \n",
    "import torch\n",
    "import torch.nn as nn\n",
    "import matplotlib.pyplot as plt\n",
    "%matplotlib inline"
   ]
  },
  {
   "cell_type": "code",
   "execution_count": 2,
   "metadata": {},
   "outputs": [
    {
     "data": {
      "text/plain": [
       "\"\\ntrain_scaler = MinMaxScaler(feature_range=(-1,1))\\ntest_scaler = MinMaxScaler(feature_range=(-1,1))\\n\\nall_meta_path[0]\\ntrain_val_meta = [train_scaler.fit_transform(torch.Tensor(pd.read_csv(i)[['내부온도관측치', '외부온도관측치', '내부습도관측치', '외부습도관측치', 'CO2관측치', 'EC관측치',\\n       '최근분무량', '화이트 LED동작강도', '레드 LED동작강도', '블루 LED동작강도', '냉방온도', '냉방부하',\\n       '난방온도', '난방부하', '총추정광량', '백색광추정광량', '적색광추정광량', '청색광추정광량']].fillna(-1).to_numpy().flatten().astype('float32')).reshape(1,-1)).squeeze(0) for i in all_meta_path]\\n\""
      ]
     },
     "execution_count": 2,
     "metadata": {},
     "output_type": "execute_result"
    }
   ],
   "source": [
    "\n",
    "all_meta_path = glob.glob(os.path.join('dataset_128', 'train', 'CASE*', 'meta', '*.csv'))\n",
    "test_meta_path = glob.glob(os.path.join('dataset_128', 'test', 'meta', '*.csv'))\n",
    "\"\"\"\n",
    "train_scaler = MinMaxScaler(feature_range=(-1,1))\n",
    "test_scaler = MinMaxScaler(feature_range=(-1,1))\n",
    "\n",
    "all_meta_path[0]\n",
    "train_val_meta = [train_scaler.fit_transform(torch.Tensor(pd.read_csv(i)[['내부온도관측치', '외부온도관측치', '내부습도관측치', '외부습도관측치', 'CO2관측치', 'EC관측치',\n",
    "       '최근분무량', '화이트 LED동작강도', '레드 LED동작강도', '블루 LED동작강도', '냉방온도', '냉방부하',\n",
    "       '난방온도', '난방부하', '총추정광량', '백색광추정광량', '적색광추정광량', '청색광추정광량']].fillna(-1).to_numpy().flatten().astype('float32')).reshape(1,-1)).squeeze(0) for i in all_meta_path]\n",
    "\"\"\""
   ]
  },
  {
   "cell_type": "code",
   "execution_count": 3,
   "metadata": {},
   "outputs": [],
   "source": [
    "columns = ['내부온도관측치', '외부온도관측치', '내부습도관측치', '외부습도관측치', 'CO2관측치', 'EC관측치',\n",
    "       '최근분무량', '화이트 LED동작강도', '레드 LED동작강도', '블루 LED동작강도', '냉방온도', '냉방부하',\n",
    "       '난방온도', '난방부하', '총추정광량', '백색광추정광량', '적색광추정광량', '청색광추정광량']"
   ]
  },
  {
   "cell_type": "code",
   "execution_count": 42,
   "metadata": {},
   "outputs": [
    {
     "data": {
      "text/html": [
       "<div>\n",
       "<style scoped>\n",
       "    .dataframe tbody tr th:only-of-type {\n",
       "        vertical-align: middle;\n",
       "    }\n",
       "\n",
       "    .dataframe tbody tr th {\n",
       "        vertical-align: top;\n",
       "    }\n",
       "\n",
       "    .dataframe thead th {\n",
       "        text-align: right;\n",
       "    }\n",
       "</style>\n",
       "<table border=\"1\" class=\"dataframe\">\n",
       "  <thead>\n",
       "    <tr style=\"text-align: right;\">\n",
       "      <th></th>\n",
       "      <th>Unnamed: 0</th>\n",
       "      <th>시간</th>\n",
       "      <th>내부온도관측치</th>\n",
       "      <th>외부온도관측치</th>\n",
       "      <th>내부습도관측치</th>\n",
       "      <th>외부습도관측치</th>\n",
       "      <th>CO2관측치</th>\n",
       "      <th>EC관측치</th>\n",
       "      <th>최근분무량</th>\n",
       "      <th>화이트 LED동작강도</th>\n",
       "      <th>레드 LED동작강도</th>\n",
       "      <th>블루 LED동작강도</th>\n",
       "      <th>냉방온도</th>\n",
       "      <th>냉방부하</th>\n",
       "      <th>난방온도</th>\n",
       "      <th>난방부하</th>\n",
       "      <th>총추정광량</th>\n",
       "      <th>백색광추정광량</th>\n",
       "      <th>적색광추정광량</th>\n",
       "      <th>청색광추정광량</th>\n",
       "    </tr>\n",
       "  </thead>\n",
       "  <tbody>\n",
       "    <tr>\n",
       "      <th>0</th>\n",
       "      <td>0</td>\n",
       "      <td>2021-05-28 02:46</td>\n",
       "      <td>22.600000</td>\n",
       "      <td>21.299999</td>\n",
       "      <td>78.199997</td>\n",
       "      <td>54.000000</td>\n",
       "      <td>597.0</td>\n",
       "      <td>0.0</td>\n",
       "      <td>126.00</td>\n",
       "      <td>0.0</td>\n",
       "      <td>0.0</td>\n",
       "      <td>0.0</td>\n",
       "      <td>21.0</td>\n",
       "      <td>8.000002</td>\n",
       "      <td>20.0</td>\n",
       "      <td>0.0</td>\n",
       "      <td>0.0</td>\n",
       "      <td>0.0</td>\n",
       "      <td>0.0</td>\n",
       "      <td>0.0</td>\n",
       "    </tr>\n",
       "    <tr>\n",
       "      <th>1</th>\n",
       "      <td>1</td>\n",
       "      <td>2021-05-28 02:47</td>\n",
       "      <td>22.600000</td>\n",
       "      <td>21.400000</td>\n",
       "      <td>79.099998</td>\n",
       "      <td>54.000000</td>\n",
       "      <td>598.0</td>\n",
       "      <td>0.0</td>\n",
       "      <td>126.00</td>\n",
       "      <td>0.0</td>\n",
       "      <td>0.0</td>\n",
       "      <td>0.0</td>\n",
       "      <td>21.0</td>\n",
       "      <td>8.000002</td>\n",
       "      <td>20.0</td>\n",
       "      <td>0.0</td>\n",
       "      <td>0.0</td>\n",
       "      <td>0.0</td>\n",
       "      <td>0.0</td>\n",
       "      <td>0.0</td>\n",
       "    </tr>\n",
       "    <tr>\n",
       "      <th>2</th>\n",
       "      <td>2</td>\n",
       "      <td>2021-05-28 02:48</td>\n",
       "      <td>22.700001</td>\n",
       "      <td>21.400000</td>\n",
       "      <td>79.599998</td>\n",
       "      <td>54.000000</td>\n",
       "      <td>607.0</td>\n",
       "      <td>0.0</td>\n",
       "      <td>126.00</td>\n",
       "      <td>0.0</td>\n",
       "      <td>0.0</td>\n",
       "      <td>0.0</td>\n",
       "      <td>21.0</td>\n",
       "      <td>8.500004</td>\n",
       "      <td>20.0</td>\n",
       "      <td>0.0</td>\n",
       "      <td>0.0</td>\n",
       "      <td>0.0</td>\n",
       "      <td>0.0</td>\n",
       "      <td>0.0</td>\n",
       "    </tr>\n",
       "    <tr>\n",
       "      <th>3</th>\n",
       "      <td>3</td>\n",
       "      <td>2021-05-28 02:49</td>\n",
       "      <td>22.700001</td>\n",
       "      <td>21.299999</td>\n",
       "      <td>79.900002</td>\n",
       "      <td>54.000000</td>\n",
       "      <td>608.0</td>\n",
       "      <td>0.0</td>\n",
       "      <td>126.00</td>\n",
       "      <td>0.0</td>\n",
       "      <td>0.0</td>\n",
       "      <td>0.0</td>\n",
       "      <td>21.0</td>\n",
       "      <td>8.500004</td>\n",
       "      <td>20.0</td>\n",
       "      <td>0.0</td>\n",
       "      <td>0.0</td>\n",
       "      <td>0.0</td>\n",
       "      <td>0.0</td>\n",
       "      <td>0.0</td>\n",
       "    </tr>\n",
       "    <tr>\n",
       "      <th>4</th>\n",
       "      <td>4</td>\n",
       "      <td>2021-05-28 02:50</td>\n",
       "      <td>22.700001</td>\n",
       "      <td>21.400000</td>\n",
       "      <td>80.300003</td>\n",
       "      <td>54.000000</td>\n",
       "      <td>610.0</td>\n",
       "      <td>0.0</td>\n",
       "      <td>126.00</td>\n",
       "      <td>0.0</td>\n",
       "      <td>0.0</td>\n",
       "      <td>NaN</td>\n",
       "      <td>21.0</td>\n",
       "      <td>8.500004</td>\n",
       "      <td>20.0</td>\n",
       "      <td>0.0</td>\n",
       "      <td>0.0</td>\n",
       "      <td>0.0</td>\n",
       "      <td>0.0</td>\n",
       "      <td>0.0</td>\n",
       "    </tr>\n",
       "    <tr>\n",
       "      <th>...</th>\n",
       "      <td>...</td>\n",
       "      <td>...</td>\n",
       "      <td>...</td>\n",
       "      <td>...</td>\n",
       "      <td>...</td>\n",
       "      <td>...</td>\n",
       "      <td>...</td>\n",
       "      <td>...</td>\n",
       "      <td>...</td>\n",
       "      <td>...</td>\n",
       "      <td>...</td>\n",
       "      <td>...</td>\n",
       "      <td>...</td>\n",
       "      <td>...</td>\n",
       "      <td>...</td>\n",
       "      <td>...</td>\n",
       "      <td>...</td>\n",
       "      <td>...</td>\n",
       "      <td>...</td>\n",
       "      <td>...</td>\n",
       "    </tr>\n",
       "    <tr>\n",
       "      <th>1435</th>\n",
       "      <td>1435</td>\n",
       "      <td>2021-05-29 02:41</td>\n",
       "      <td>22.299999</td>\n",
       "      <td>21.600000</td>\n",
       "      <td>76.099998</td>\n",
       "      <td>58.200001</td>\n",
       "      <td>562.0</td>\n",
       "      <td>0.0</td>\n",
       "      <td>119.57</td>\n",
       "      <td>0.0</td>\n",
       "      <td>0.0</td>\n",
       "      <td>0.0</td>\n",
       "      <td>21.0</td>\n",
       "      <td>6.499996</td>\n",
       "      <td>20.0</td>\n",
       "      <td>0.0</td>\n",
       "      <td>0.0</td>\n",
       "      <td>0.0</td>\n",
       "      <td>0.0</td>\n",
       "      <td>0.0</td>\n",
       "    </tr>\n",
       "    <tr>\n",
       "      <th>1436</th>\n",
       "      <td>1436</td>\n",
       "      <td>2021-05-29 02:42</td>\n",
       "      <td>22.400000</td>\n",
       "      <td>21.700001</td>\n",
       "      <td>77.199997</td>\n",
       "      <td>58.200001</td>\n",
       "      <td>561.0</td>\n",
       "      <td>0.0</td>\n",
       "      <td>119.57</td>\n",
       "      <td>0.0</td>\n",
       "      <td>0.0</td>\n",
       "      <td>0.0</td>\n",
       "      <td>21.0</td>\n",
       "      <td>6.999998</td>\n",
       "      <td>20.0</td>\n",
       "      <td>0.0</td>\n",
       "      <td>0.0</td>\n",
       "      <td>0.0</td>\n",
       "      <td>0.0</td>\n",
       "      <td>0.0</td>\n",
       "    </tr>\n",
       "    <tr>\n",
       "      <th>1437</th>\n",
       "      <td>1437</td>\n",
       "      <td>2021-05-29 02:43</td>\n",
       "      <td>22.500000</td>\n",
       "      <td>21.900000</td>\n",
       "      <td>80.199997</td>\n",
       "      <td>58.299999</td>\n",
       "      <td>570.0</td>\n",
       "      <td>0.0</td>\n",
       "      <td>119.57</td>\n",
       "      <td>0.0</td>\n",
       "      <td>0.0</td>\n",
       "      <td>0.0</td>\n",
       "      <td>21.0</td>\n",
       "      <td>7.500000</td>\n",
       "      <td>20.0</td>\n",
       "      <td>0.0</td>\n",
       "      <td>0.0</td>\n",
       "      <td>0.0</td>\n",
       "      <td>0.0</td>\n",
       "      <td>0.0</td>\n",
       "    </tr>\n",
       "    <tr>\n",
       "      <th>1438</th>\n",
       "      <td>1438</td>\n",
       "      <td>2021-05-29 02:44</td>\n",
       "      <td>22.600000</td>\n",
       "      <td>21.900000</td>\n",
       "      <td>81.300003</td>\n",
       "      <td>58.200001</td>\n",
       "      <td>564.0</td>\n",
       "      <td>0.0</td>\n",
       "      <td>119.57</td>\n",
       "      <td>0.0</td>\n",
       "      <td>0.0</td>\n",
       "      <td>0.0</td>\n",
       "      <td>21.0</td>\n",
       "      <td>8.000002</td>\n",
       "      <td>20.0</td>\n",
       "      <td>0.0</td>\n",
       "      <td>0.0</td>\n",
       "      <td>0.0</td>\n",
       "      <td>0.0</td>\n",
       "      <td>0.0</td>\n",
       "    </tr>\n",
       "    <tr>\n",
       "      <th>1439</th>\n",
       "      <td>1439</td>\n",
       "      <td>2021-05-29 02:45</td>\n",
       "      <td>22.600000</td>\n",
       "      <td>21.799999</td>\n",
       "      <td>82.199997</td>\n",
       "      <td>58.200001</td>\n",
       "      <td>570.0</td>\n",
       "      <td>0.0</td>\n",
       "      <td>119.57</td>\n",
       "      <td>0.0</td>\n",
       "      <td>0.0</td>\n",
       "      <td>0.0</td>\n",
       "      <td>21.0</td>\n",
       "      <td>8.000002</td>\n",
       "      <td>20.0</td>\n",
       "      <td>0.0</td>\n",
       "      <td>0.0</td>\n",
       "      <td>0.0</td>\n",
       "      <td>0.0</td>\n",
       "      <td>0.0</td>\n",
       "    </tr>\n",
       "  </tbody>\n",
       "</table>\n",
       "<p>1440 rows × 20 columns</p>\n",
       "</div>"
      ],
      "text/plain": [
       "      Unnamed: 0                시간    내부온도관측치    외부온도관측치    내부습도관측치  \\\n",
       "0              0  2021-05-28 02:46  22.600000  21.299999  78.199997   \n",
       "1              1  2021-05-28 02:47  22.600000  21.400000  79.099998   \n",
       "2              2  2021-05-28 02:48  22.700001  21.400000  79.599998   \n",
       "3              3  2021-05-28 02:49  22.700001  21.299999  79.900002   \n",
       "4              4  2021-05-28 02:50  22.700001  21.400000  80.300003   \n",
       "...          ...               ...        ...        ...        ...   \n",
       "1435        1435  2021-05-29 02:41  22.299999  21.600000  76.099998   \n",
       "1436        1436  2021-05-29 02:42  22.400000  21.700001  77.199997   \n",
       "1437        1437  2021-05-29 02:43  22.500000  21.900000  80.199997   \n",
       "1438        1438  2021-05-29 02:44  22.600000  21.900000  81.300003   \n",
       "1439        1439  2021-05-29 02:45  22.600000  21.799999  82.199997   \n",
       "\n",
       "        외부습도관측치  CO2관측치  EC관측치   최근분무량  화이트 LED동작강도  레드 LED동작강도  블루 LED동작강도  \\\n",
       "0     54.000000   597.0    0.0  126.00          0.0         0.0         0.0   \n",
       "1     54.000000   598.0    0.0  126.00          0.0         0.0         0.0   \n",
       "2     54.000000   607.0    0.0  126.00          0.0         0.0         0.0   \n",
       "3     54.000000   608.0    0.0  126.00          0.0         0.0         0.0   \n",
       "4     54.000000   610.0    0.0  126.00          0.0         0.0         NaN   \n",
       "...         ...     ...    ...     ...          ...         ...         ...   \n",
       "1435  58.200001   562.0    0.0  119.57          0.0         0.0         0.0   \n",
       "1436  58.200001   561.0    0.0  119.57          0.0         0.0         0.0   \n",
       "1437  58.299999   570.0    0.0  119.57          0.0         0.0         0.0   \n",
       "1438  58.200001   564.0    0.0  119.57          0.0         0.0         0.0   \n",
       "1439  58.200001   570.0    0.0  119.57          0.0         0.0         0.0   \n",
       "\n",
       "      냉방온도      냉방부하  난방온도  난방부하  총추정광량  백색광추정광량  적색광추정광량  청색광추정광량  \n",
       "0     21.0  8.000002  20.0   0.0    0.0      0.0      0.0      0.0  \n",
       "1     21.0  8.000002  20.0   0.0    0.0      0.0      0.0      0.0  \n",
       "2     21.0  8.500004  20.0   0.0    0.0      0.0      0.0      0.0  \n",
       "3     21.0  8.500004  20.0   0.0    0.0      0.0      0.0      0.0  \n",
       "4     21.0  8.500004  20.0   0.0    0.0      0.0      0.0      0.0  \n",
       "...    ...       ...   ...   ...    ...      ...      ...      ...  \n",
       "1435  21.0  6.499996  20.0   0.0    0.0      0.0      0.0      0.0  \n",
       "1436  21.0  6.999998  20.0   0.0    0.0      0.0      0.0      0.0  \n",
       "1437  21.0  7.500000  20.0   0.0    0.0      0.0      0.0      0.0  \n",
       "1438  21.0  8.000002  20.0   0.0    0.0      0.0      0.0      0.0  \n",
       "1439  21.0  8.000002  20.0   0.0    0.0      0.0      0.0      0.0  \n",
       "\n",
       "[1440 rows x 20 columns]"
      ]
     },
     "execution_count": 42,
     "metadata": {},
     "output_type": "execute_result"
    }
   ],
   "source": [
    "pd.read_csv(all_meta_path[1590])"
   ]
  },
  {
   "cell_type": "code",
   "execution_count": 74,
   "metadata": {},
   "outputs": [],
   "source": [
    "import tqdm\n",
    "water = []\n",
    "for i in (range(1592)):\n",
    "    temp = pd.read_csv(all_meta_path[i])[\"레드 LED동작강도\"]\n",
    "    if np.array(temp).sum()!=np.nan:\n",
    "        #temp = temp.fillna(method='bfill')\n",
    "        #temp = temp.fillna(method='ffill')\n",
    "        #temp = temp.fillna(0)\n",
    "        water.append(max(temp))\n",
    "    "
   ]
  },
  {
   "cell_type": "code",
   "execution_count": 40,
   "metadata": {},
   "outputs": [],
   "source": [
    "water.sort()"
   ]
  },
  {
   "cell_type": "code",
   "execution_count": 41,
   "metadata": {},
   "outputs": [
    {
     "data": {
      "text/plain": [
       "[[68.4000015258789, 1199],\n",
       " [68.5, 1197],\n",
       " [70.4000015258789, 1193],\n",
       " [70.5999984741211, 1584],\n",
       " [70.6999969482421, 1198],\n",
       " [72.1999969482421, 1581],\n",
       " [72.4000015258789, 1579],\n",
       " [73.9000015258789, 1590],\n",
       " [74.0, 1575],\n",
       " [74.3000030517578, 1580]]"
      ]
     },
     "execution_count": 41,
     "metadata": {},
     "output_type": "execute_result"
    }
   ],
   "source": [
    "water.sort()\n",
    "water[-10:]"
   ]
  },
  {
   "cell_type": "code",
   "execution_count": 75,
   "metadata": {},
   "outputs": [
    {
     "data": {
      "text/plain": [
       "(array([453.,   0.,   0.,   0.,   0.,   0.,   1.,   2.,   0., 130.,   0.,\n",
       "          1.,   0.,   0., 559.,   0.,   0.,   0.,   0.,   0.,   0.,   0.,\n",
       "          0.,   0.,  26.,   0.,   0.,   0.,   0.,  29.,   0.,   0.,   0.,\n",
       "          0.,   0.,   0.,   0.,   0.,   0.,   0.,   0.,   0.,   0.,   0.,\n",
       "          0.,   0.,   0.,   0.,   0.,  30.,   0.,   0.,   0.,   0.,   0.,\n",
       "          0.,   0.,   0.,   0.,   0.,   0.,   0.,   0.,   0.,   0.,   0.,\n",
       "          0.,   0.,   0.,   0.,   0.,   0.,   0.,   0.,   0.,   0.,   0.,\n",
       "          0.,   0.,   0.,   0.,   0.,   0.,   0.,   0.,   0.,   0.,   0.,\n",
       "          0.,   0.,   0.,   0.,   0.,   0.,   0.,   0.,   0.,   0.,   0.,\n",
       "         18.]),\n",
       " array([  0.  ,   2.01,   4.02,   6.03,   8.04,  10.05,  12.06,  14.07,\n",
       "         16.08,  18.09,  20.1 ,  22.11,  24.12,  26.13,  28.14,  30.15,\n",
       "         32.16,  34.17,  36.18,  38.19,  40.2 ,  42.21,  44.22,  46.23,\n",
       "         48.24,  50.25,  52.26,  54.27,  56.28,  58.29,  60.3 ,  62.31,\n",
       "         64.32,  66.33,  68.34,  70.35,  72.36,  74.37,  76.38,  78.39,\n",
       "         80.4 ,  82.41,  84.42,  86.43,  88.44,  90.45,  92.46,  94.47,\n",
       "         96.48,  98.49, 100.5 , 102.51, 104.52, 106.53, 108.54, 110.55,\n",
       "        112.56, 114.57, 116.58, 118.59, 120.6 , 122.61, 124.62, 126.63,\n",
       "        128.64, 130.65, 132.66, 134.67, 136.68, 138.69, 140.7 , 142.71,\n",
       "        144.72, 146.73, 148.74, 150.75, 152.76, 154.77, 156.78, 158.79,\n",
       "        160.8 , 162.81, 164.82, 166.83, 168.84, 170.85, 172.86, 174.87,\n",
       "        176.88, 178.89, 180.9 , 182.91, 184.92, 186.93, 188.94, 190.95,\n",
       "        192.96, 194.97, 196.98, 198.99, 201.  ]),\n",
       " <BarContainer object of 100 artists>)"
      ]
     },
     "execution_count": 75,
     "metadata": {},
     "output_type": "execute_result"
    },
    {
     "data": {
      "image/png": "[encoded data removed]",
      "text/plain": [
       "<Figure size 432x288 with 1 Axes>"
      ]
     },
     "metadata": {
      "needs_background": "light"
     },
     "output_type": "display_data"
    }
   ],
   "source": [
    "plt.hist(water, bins=100)"
   ]
  },
  {
   "cell_type": "code",
   "execution_count": 73,
   "metadata": {},
   "outputs": [
    {
     "data": {
      "text/html": [
       "<div>\n",
       "<style scoped>\n",
       "    .dataframe tbody tr th:only-of-type {\n",
       "        vertical-align: middle;\n",
       "    }\n",
       "\n",
       "    .dataframe tbody tr th {\n",
       "        vertical-align: top;\n",
       "    }\n",
       "\n",
       "    .dataframe thead th {\n",
       "        text-align: right;\n",
       "    }\n",
       "</style>\n",
       "<table border=\"1\" class=\"dataframe\">\n",
       "  <thead>\n",
       "    <tr style=\"text-align: right;\">\n",
       "      <th></th>\n",
       "      <th>Unnamed: 0</th>\n",
       "      <th>시간</th>\n",
       "      <th>내부온도관측치</th>\n",
       "      <th>외부온도관측치</th>\n",
       "      <th>내부습도관측치</th>\n",
       "      <th>외부습도관측치</th>\n",
       "      <th>CO2관측치</th>\n",
       "      <th>EC관측치</th>\n",
       "      <th>최근분무량</th>\n",
       "      <th>화이트 LED동작강도</th>\n",
       "      <th>레드 LED동작강도</th>\n",
       "      <th>블루 LED동작강도</th>\n",
       "      <th>냉방온도</th>\n",
       "      <th>냉방부하</th>\n",
       "      <th>난방온도</th>\n",
       "      <th>난방부하</th>\n",
       "      <th>총추정광량</th>\n",
       "      <th>백색광추정광량</th>\n",
       "      <th>적색광추정광량</th>\n",
       "      <th>청색광추정광량</th>\n",
       "    </tr>\n",
       "  </thead>\n",
       "  <tbody>\n",
       "    <tr>\n",
       "      <th>0</th>\n",
       "      <td>0</td>\n",
       "      <td>2021-04-02 16:59</td>\n",
       "      <td>27.700001</td>\n",
       "      <td>26.799999</td>\n",
       "      <td>59.099998</td>\n",
       "      <td>30.200001</td>\n",
       "      <td>472.0</td>\n",
       "      <td>2.040293</td>\n",
       "      <td>769.0</td>\n",
       "      <td>100.0</td>\n",
       "      <td>0.0</td>\n",
       "      <td>0.0</td>\n",
       "      <td>26.0</td>\n",
       "      <td>8.500004</td>\n",
       "      <td>25.0</td>\n",
       "      <td>0.0</td>\n",
       "      <td>309.41</td>\n",
       "      <td>309.41</td>\n",
       "      <td>0.0</td>\n",
       "      <td>0.0</td>\n",
       "    </tr>\n",
       "    <tr>\n",
       "      <th>1</th>\n",
       "      <td>1</td>\n",
       "      <td>2021-04-02 17:00</td>\n",
       "      <td>27.600000</td>\n",
       "      <td>26.700001</td>\n",
       "      <td>59.799999</td>\n",
       "      <td>30.200001</td>\n",
       "      <td>472.0</td>\n",
       "      <td>2.040293</td>\n",
       "      <td>769.0</td>\n",
       "      <td>100.0</td>\n",
       "      <td>0.0</td>\n",
       "      <td>0.0</td>\n",
       "      <td>26.0</td>\n",
       "      <td>8.000002</td>\n",
       "      <td>25.0</td>\n",
       "      <td>0.0</td>\n",
       "      <td>309.41</td>\n",
       "      <td>309.41</td>\n",
       "      <td>0.0</td>\n",
       "      <td>0.0</td>\n",
       "    </tr>\n",
       "    <tr>\n",
       "      <th>2</th>\n",
       "      <td>2</td>\n",
       "      <td>2021-04-02 17:01</td>\n",
       "      <td>27.700001</td>\n",
       "      <td>26.799999</td>\n",
       "      <td>60.299999</td>\n",
       "      <td>30.200001</td>\n",
       "      <td>475.0</td>\n",
       "      <td>2.091662</td>\n",
       "      <td>769.0</td>\n",
       "      <td>100.0</td>\n",
       "      <td>0.0</td>\n",
       "      <td>0.0</td>\n",
       "      <td>26.0</td>\n",
       "      <td>8.500004</td>\n",
       "      <td>25.0</td>\n",
       "      <td>0.0</td>\n",
       "      <td>309.41</td>\n",
       "      <td>309.41</td>\n",
       "      <td>0.0</td>\n",
       "      <td>0.0</td>\n",
       "    </tr>\n",
       "    <tr>\n",
       "      <th>3</th>\n",
       "      <td>3</td>\n",
       "      <td>2021-04-02 17:02</td>\n",
       "      <td>28.799999</td>\n",
       "      <td>26.900000</td>\n",
       "      <td>50.599998</td>\n",
       "      <td>30.200001</td>\n",
       "      <td>464.0</td>\n",
       "      <td>2.089686</td>\n",
       "      <td>769.0</td>\n",
       "      <td>100.0</td>\n",
       "      <td>0.0</td>\n",
       "      <td>0.0</td>\n",
       "      <td>26.0</td>\n",
       "      <td>13.999996</td>\n",
       "      <td>25.0</td>\n",
       "      <td>0.0</td>\n",
       "      <td>309.41</td>\n",
       "      <td>309.41</td>\n",
       "      <td>0.0</td>\n",
       "      <td>0.0</td>\n",
       "    </tr>\n",
       "    <tr>\n",
       "      <th>4</th>\n",
       "      <td>4</td>\n",
       "      <td>2021-04-02 17:03</td>\n",
       "      <td>29.400000</td>\n",
       "      <td>26.900000</td>\n",
       "      <td>42.799999</td>\n",
       "      <td>30.200001</td>\n",
       "      <td>467.0</td>\n",
       "      <td>2.091662</td>\n",
       "      <td>769.0</td>\n",
       "      <td>100.0</td>\n",
       "      <td>0.0</td>\n",
       "      <td>0.0</td>\n",
       "      <td>26.0</td>\n",
       "      <td>16.999998</td>\n",
       "      <td>25.0</td>\n",
       "      <td>0.0</td>\n",
       "      <td>309.41</td>\n",
       "      <td>309.41</td>\n",
       "      <td>0.0</td>\n",
       "      <td>0.0</td>\n",
       "    </tr>\n",
       "    <tr>\n",
       "      <th>...</th>\n",
       "      <td>...</td>\n",
       "      <td>...</td>\n",
       "      <td>...</td>\n",
       "      <td>...</td>\n",
       "      <td>...</td>\n",
       "      <td>...</td>\n",
       "      <td>...</td>\n",
       "      <td>...</td>\n",
       "      <td>...</td>\n",
       "      <td>...</td>\n",
       "      <td>...</td>\n",
       "      <td>...</td>\n",
       "      <td>...</td>\n",
       "      <td>...</td>\n",
       "      <td>...</td>\n",
       "      <td>...</td>\n",
       "      <td>...</td>\n",
       "      <td>...</td>\n",
       "      <td>...</td>\n",
       "      <td>...</td>\n",
       "    </tr>\n",
       "    <tr>\n",
       "      <th>1435</th>\n",
       "      <td>1435</td>\n",
       "      <td>2021-04-03 16:54</td>\n",
       "      <td>28.299999</td>\n",
       "      <td>26.799999</td>\n",
       "      <td>54.900002</td>\n",
       "      <td>39.099998</td>\n",
       "      <td>463.0</td>\n",
       "      <td>2.139080</td>\n",
       "      <td>769.0</td>\n",
       "      <td>NaN</td>\n",
       "      <td>0.0</td>\n",
       "      <td>0.0</td>\n",
       "      <td>26.0</td>\n",
       "      <td>8.999996</td>\n",
       "      <td>25.0</td>\n",
       "      <td>0.0</td>\n",
       "      <td>309.41</td>\n",
       "      <td>309.41</td>\n",
       "      <td>0.0</td>\n",
       "      <td>0.0</td>\n",
       "    </tr>\n",
       "    <tr>\n",
       "      <th>1436</th>\n",
       "      <td>1436</td>\n",
       "      <td>2021-04-03 16:55</td>\n",
       "      <td>28.799999</td>\n",
       "      <td>26.799999</td>\n",
       "      <td>55.299999</td>\n",
       "      <td>39.000000</td>\n",
       "      <td>463.0</td>\n",
       "      <td>2.137104</td>\n",
       "      <td>769.0</td>\n",
       "      <td>100.0</td>\n",
       "      <td>0.0</td>\n",
       "      <td>0.0</td>\n",
       "      <td>26.0</td>\n",
       "      <td>13.999996</td>\n",
       "      <td>25.0</td>\n",
       "      <td>0.0</td>\n",
       "      <td>309.41</td>\n",
       "      <td>309.41</td>\n",
       "      <td>0.0</td>\n",
       "      <td>0.0</td>\n",
       "    </tr>\n",
       "    <tr>\n",
       "      <th>1437</th>\n",
       "      <td>1437</td>\n",
       "      <td>2021-04-03 16:56</td>\n",
       "      <td>29.100000</td>\n",
       "      <td>26.799999</td>\n",
       "      <td>55.599998</td>\n",
       "      <td>39.099998</td>\n",
       "      <td>460.0</td>\n",
       "      <td>2.135128</td>\n",
       "      <td>769.0</td>\n",
       "      <td>100.0</td>\n",
       "      <td>0.0</td>\n",
       "      <td>0.0</td>\n",
       "      <td>26.0</td>\n",
       "      <td>15.500002</td>\n",
       "      <td>25.0</td>\n",
       "      <td>0.0</td>\n",
       "      <td>309.41</td>\n",
       "      <td>309.41</td>\n",
       "      <td>0.0</td>\n",
       "      <td>0.0</td>\n",
       "    </tr>\n",
       "    <tr>\n",
       "      <th>1438</th>\n",
       "      <td>1438</td>\n",
       "      <td>2021-04-03 16:57</td>\n",
       "      <td>29.299999</td>\n",
       "      <td>26.799999</td>\n",
       "      <td>55.099998</td>\n",
       "      <td>38.700001</td>\n",
       "      <td>456.0</td>\n",
       "      <td>2.087711</td>\n",
       "      <td>769.0</td>\n",
       "      <td>100.0</td>\n",
       "      <td>0.0</td>\n",
       "      <td>0.0</td>\n",
       "      <td>26.0</td>\n",
       "      <td>16.499996</td>\n",
       "      <td>25.0</td>\n",
       "      <td>0.0</td>\n",
       "      <td>309.41</td>\n",
       "      <td>309.41</td>\n",
       "      <td>0.0</td>\n",
       "      <td>0.0</td>\n",
       "    </tr>\n",
       "    <tr>\n",
       "      <th>1439</th>\n",
       "      <td>1439</td>\n",
       "      <td>2021-04-03 16:58</td>\n",
       "      <td>29.100000</td>\n",
       "      <td>26.799999</td>\n",
       "      <td>55.400002</td>\n",
       "      <td>38.599998</td>\n",
       "      <td>463.0</td>\n",
       "      <td>2.088698</td>\n",
       "      <td>769.0</td>\n",
       "      <td>100.0</td>\n",
       "      <td>0.0</td>\n",
       "      <td>0.0</td>\n",
       "      <td>26.0</td>\n",
       "      <td>15.500002</td>\n",
       "      <td>25.0</td>\n",
       "      <td>0.0</td>\n",
       "      <td>309.41</td>\n",
       "      <td>309.41</td>\n",
       "      <td>0.0</td>\n",
       "      <td>0.0</td>\n",
       "    </tr>\n",
       "  </tbody>\n",
       "</table>\n",
       "<p>1440 rows × 20 columns</p>\n",
       "</div>"
      ],
      "text/plain": [
       "      Unnamed: 0                시간    내부온도관측치    외부온도관측치    내부습도관측치  \\\n",
       "0              0  2021-04-02 16:59  27.700001  26.799999  59.099998   \n",
       "1              1  2021-04-02 17:00  27.600000  26.700001  59.799999   \n",
       "2              2  2021-04-02 17:01  27.700001  26.799999  60.299999   \n",
       "3              3  2021-04-02 17:02  28.799999  26.900000  50.599998   \n",
       "4              4  2021-04-02 17:03  29.400000  26.900000  42.799999   \n",
       "...          ...               ...        ...        ...        ...   \n",
       "1435        1435  2021-04-03 16:54  28.299999  26.799999  54.900002   \n",
       "1436        1436  2021-04-03 16:55  28.799999  26.799999  55.299999   \n",
       "1437        1437  2021-04-03 16:56  29.100000  26.799999  55.599998   \n",
       "1438        1438  2021-04-03 16:57  29.299999  26.799999  55.099998   \n",
       "1439        1439  2021-04-03 16:58  29.100000  26.799999  55.400002   \n",
       "\n",
       "        외부습도관측치  CO2관측치     EC관측치  최근분무량  화이트 LED동작강도  레드 LED동작강도  블루 LED동작강도  \\\n",
       "0     30.200001   472.0  2.040293  769.0        100.0         0.0         0.0   \n",
       "1     30.200001   472.0  2.040293  769.0        100.0         0.0         0.0   \n",
       "2     30.200001   475.0  2.091662  769.0        100.0         0.0         0.0   \n",
       "3     30.200001   464.0  2.089686  769.0        100.0         0.0         0.0   \n",
       "4     30.200001   467.0  2.091662  769.0        100.0         0.0         0.0   \n",
       "...         ...     ...       ...    ...          ...         ...         ...   \n",
       "1435  39.099998   463.0  2.139080  769.0          NaN         0.0         0.0   \n",
       "1436  39.000000   463.0  2.137104  769.0        100.0         0.0         0.0   \n",
       "1437  39.099998   460.0  2.135128  769.0        100.0         0.0         0.0   \n",
       "1438  38.700001   456.0  2.087711  769.0        100.0         0.0         0.0   \n",
       "1439  38.599998   463.0  2.088698  769.0        100.0         0.0         0.0   \n",
       "\n",
       "      냉방온도       냉방부하  난방온도  난방부하   총추정광량  백색광추정광량  적색광추정광량  청색광추정광량  \n",
       "0     26.0   8.500004  25.0   0.0  309.41   309.41      0.0      0.0  \n",
       "1     26.0   8.000002  25.0   0.0  309.41   309.41      0.0      0.0  \n",
       "2     26.0   8.500004  25.0   0.0  309.41   309.41      0.0      0.0  \n",
       "3     26.0  13.999996  25.0   0.0  309.41   309.41      0.0      0.0  \n",
       "4     26.0  16.999998  25.0   0.0  309.41   309.41      0.0      0.0  \n",
       "...    ...        ...   ...   ...     ...      ...      ...      ...  \n",
       "1435  26.0   8.999996  25.0   0.0  309.41   309.41      0.0      0.0  \n",
       "1436  26.0  13.999996  25.0   0.0  309.41   309.41      0.0      0.0  \n",
       "1437  26.0  15.500002  25.0   0.0  309.41   309.41      0.0      0.0  \n",
       "1438  26.0  16.499996  25.0   0.0  309.41   309.41      0.0      0.0  \n",
       "1439  26.0  15.500002  25.0   0.0  309.41   309.41      0.0      0.0  \n",
       "\n",
       "[1440 rows x 20 columns]"
      ]
     },
     "execution_count": 73,
     "metadata": {},
     "output_type": "execute_result"
    }
   ],
   "source": [
    "pd.read_csv(all_meta_path[791])"
   ]
  },
  {
   "cell_type": "code",
   "execution_count": 77,
   "metadata": {},
   "outputs": [
    {
     "data": {
      "image/png": "[encoded data removed]",
      "text/plain": [
       "<Figure size 432x216 with 1 Axes>"
      ]
     },
     "metadata": {
      "needs_background": "light"
     },
     "output_type": "display_data"
    },
    {
     "data": {
      "image/png": "[encoded data removed]",
      "text/plain": [
       "<Figure size 432x216 with 1 Axes>"
      ]
     },
     "metadata": {
      "needs_background": "light"
     },
     "output_type": "display_data"
    },
    {
     "data": {
      "image/png": "[encoded data removed]",
      "text/plain": [
       "<Figure size 432x216 with 1 Axes>"
      ]
     },
     "metadata": {
      "needs_background": "light"
     },
     "output_type": "display_data"
    },
    {
     "data": {
      "image/png": "[encoded data removed]",
      "text/plain": [
       "<Figure size 432x216 with 1 Axes>"
      ]
     },
     "metadata": {
      "needs_background": "light"
     },
     "output_type": "display_data"
    },
    {
     "data": {
      "image/png": "[encoded data removed]",
      "text/plain": [
       "<Figure size 432x216 with 1 Axes>"
      ]
     },
     "metadata": {
      "needs_background": "light"
     },
     "output_type": "display_data"
    },
    {
     "data": {
      "image/png": "[encoded data removed]",
      "text/plain": [
       "<Figure size 432x216 with 1 Axes>"
      ]
     },
     "metadata": {
      "needs_background": "light"
     },
     "output_type": "display_data"
    },
    {
     "data": {
      "image/png": "[encoded data removed]",
      "text/plain": [
       "<Figure size 432x216 with 1 Axes>"
      ]
     },
     "metadata": {
      "needs_background": "light"
     },
     "output_type": "display_data"
    },
    {
     "data": {
      "image/png": "[encoded data removed]",
      "text/plain": [
       "<Figure size 432x216 with 1 Axes>"
      ]
     },
     "metadata": {
      "needs_background": "light"
     },
     "output_type": "display_data"
    },
    {
     "data": {
      "image/png": "[encoded data removed]",
      "text/plain": [
       "<Figure size 432x216 with 1 Axes>"
      ]
     },
     "metadata": {
      "needs_background": "light"
     },
     "output_type": "display_data"
    },
    {
     "data": {
      "image/png": "[encoded data removed]",
      "text/plain": [
       "<Figure size 432x216 with 1 Axes>"
      ]
     },
     "metadata": {
      "needs_background": "light"
     },
     "output_type": "display_data"
    },
    {
     "data": {
      "image/png": "[encoded data removed]",
      "text/plain": [
       "<Figure size 432x216 with 1 Axes>"
      ]
     },
     "metadata": {
      "needs_background": "light"
     },
     "output_type": "display_data"
    },
    {
     "data": {
      "image/png": "[encoded data removed]",
      "text/plain": [
       "<Figure size 432x216 with 1 Axes>"
      ]
     },
     "metadata": {
      "needs_background": "light"
     },
     "output_type": "display_data"
    },
    {
     "data": {
      "image/png": "[encoded data removed]",
      "text/plain": [
       "<Figure size 432x216 with 1 Axes>"
      ]
     },
     "metadata": {
      "needs_background": "light"
     },
     "output_type": "display_data"
    },
    {
     "data": {
      "image/png": "[encoded data removed]",
      "text/plain": [
       "<Figure size 432x216 with 1 Axes>"
      ]
     },
     "metadata": {
      "needs_background": "light"
     },
     "output_type": "display_data"
    },
    {
     "data": {
      "image/png": "[encoded data removed]",
      "text/plain": [
       "<Figure size 432x216 with 1 Axes>"
      ]
     },
     "metadata": {
      "needs_background": "light"
     },
     "output_type": "display_data"
    },
    {
     "data": {
      "image/png": "[encoded data removed]",
      "text/plain": [
       "<Figure size 432x216 with 1 Axes>"
      ]
     },
     "metadata": {
      "needs_background": "light"
     },
     "output_type": "display_data"
    },
    {
     "data": {
      "image/png": "[encoded data removed]",
      "text/plain": [
       "<Figure size 432x216 with 1 Axes>"
      ]
     },
     "metadata": {
      "needs_background": "light"
     },
     "output_type": "display_data"
    },
    {
     "data": {
      "image/png": "[encoded data removed]",
      "text/plain": [
       "<Figure size 432x216 with 1 Axes>"
      ]
     },
     "metadata": {
      "needs_background": "light"
     },
     "output_type": "display_data"
    },
    {
     "data": {
      "image/png": "[encoded data removed]",
      "text/plain": [
       "<Figure size 432x216 with 1 Axes>"
      ]
     },
     "metadata": {
      "needs_background": "light"
     },
     "output_type": "display_data"
    },
    {
     "data": {
      "image/png": "[encoded data removed]",
      "text/plain": [
       "<Figure size 432x216 with 1 Axes>"
      ]
     },
     "metadata": {
      "needs_background": "light"
     },
     "output_type": "display_data"
    }
   ],
   "source": [
    "x = np.linspace(0,1439,1440)\n",
    "for i in range(700,720):\n",
    "    plt.figure(figsize=(6,3))\n",
    "    plt.plot(x,pd.read_csv(all_meta_path[i])[\"백색광추정광량\"])    "
   ]
  },
  {
   "cell_type": "code",
   "execution_count": 78,
   "metadata": {},
   "outputs": [
    {
     "data": {
      "text/plain": [
       "3"
      ]
     },
     "execution_count": 78,
     "metadata": {},
     "output_type": "execute_result"
    }
   ],
   "source": []
  },
  {
   "cell_type": "code",
   "execution_count": null,
   "metadata": {},
   "outputs": [],
   "source": []
  }
 ],
 "metadata": {
  "interpreter": {
   "hash": "29f659bb1ba71e582cd17436f85f7a18340415880a5bc453604fc9cf5a274210"
  },
  "kernelspec": {
   "display_name": "Python 3.8.8 ('wonyong')",
   "language": "python",
   "name": "python3"
  },
  "language_info": {
   "codemirror_mode": {
    "name": "ipython",
    "version": 3
   },
   "file_extension": ".py",
   "mimetype": "text/x-python",
   "name": "python",
   "nbconvert_exporter": "python",
   "pygments_lexer": "ipython3",
   "version": "3.8.8"
  },
  "orig_nbformat": 4
 },
 "nbformat": 4,
 "nbformat_minor": 2
}
